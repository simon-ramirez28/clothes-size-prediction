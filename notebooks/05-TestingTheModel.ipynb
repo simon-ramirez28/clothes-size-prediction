{
 "cells": [
  {
   "cell_type": "markdown",
   "id": "fe4dd9bf-b82f-4501-821d-acedbd84d6a2",
   "metadata": {},
   "source": [
    "## Clothes Size Prediction - TESTING ⌂"
   ]
  },
  {
   "cell_type": "code",
   "execution_count": 1,
   "id": "2a1470aa-901c-4bf4-a305-511233302f9d",
   "metadata": {},
   "outputs": [
    {
     "name": "stderr",
     "output_type": "stream",
     "text": [
      "[INFO] ✅ Libraries Uploaded\n"
     ]
    }
   ],
   "source": [
    "# Import necessary libraries\n",
    "import os\n",
    "import sys\n",
    "import pandas as pd\n",
    "import numpy as np\n",
    "import matplotlib.pyplot as plt\n",
    "import seaborn as sns\n",
    "import logging\n",
    "logging.basicConfig(level=logging.INFO, format='[%(levelname)s] %(message)s')\n",
    "logger = logging.getLogger(__name__)\n",
    "\n",
    "# Get the current working directory\n",
    "current_dir = os.getcwd()\n",
    "\n",
    "# Navigate to the project root\n",
    "project_root = os.path.abspath(os.path.join(current_dir, '..'))\n",
    "\n",
    "# Import from /src\n",
    "sys.path.append(os.path.join(project_root))\n",
    "logger.info(f\"✅ Libraries Uploaded\")"
   ]
  },
  {
   "cell_type": "code",
   "execution_count": 3,
   "id": "98510e86-6532-45c8-a3b5-cf09e1c25658",
   "metadata": {},
   "outputs": [
    {
     "name": "stderr",
     "output_type": "stream",
     "text": [
      "[INFO] ✅ Libraries Uploaded\n"
     ]
    }
   ],
   "source": [
    "# --- Import from /src/pipelines\n",
    "from src.pipeline.inference_pipeline import InferencePipeline\n",
    "logger.info(f\"✅ Libraries Uploaded\")"
   ]
  },
  {
   "cell_type": "code",
   "execution_count": 5,
   "id": "056180ad-fc13-4e48-bc70-69ebab038a37",
   "metadata": {},
   "outputs": [
    {
     "name": "stderr",
     "output_type": "stream",
     "text": [
      "[INFO] ✅ Model Imported\n"
     ]
    }
   ],
   "source": [
    "# Importing the model\n",
    "model_path = os.path.abspath(os.path.join(project_root, 'models', 'best_model.pkl'))\n",
    "encoder_path = os.path.abspath(os.path.join(project_root, 'models', 'label_encoder.pkl'))\n",
    "logger.info(f\"✅ Model Imported\")"
   ]
  },
  {
   "cell_type": "code",
   "execution_count": 6,
   "id": "72cb94a9-8b3b-4eb7-af0e-b499b382de9d",
   "metadata": {},
   "outputs": [
    {
     "name": "stdout",
     "output_type": "stream",
     "text": [
      "🧠 Initializing inference pipeline...\n",
      "✅ Model and encoder loaded successfully.\n"
     ]
    }
   ],
   "source": [
    "# Initialize inference system\n",
    "inference = InferencePipeline(model_path=model_path, encoder_path=encoder_path)"
   ]
  },
  {
   "cell_type": "code",
   "execution_count": 7,
   "id": "e6578557-9adb-4bb3-a5ff-c1b2daa5e946",
   "metadata": {},
   "outputs": [],
   "source": [
    "# Example input\n",
    "new_person = {\n",
    "    \"weight\": 72,   # kg\n",
    "    \"age\": 28,      # years\n",
    "    \"height\": 180   # cm\n",
    "}"
   ]
  },
  {
   "cell_type": "code",
   "execution_count": 8,
   "id": "0117001c-0f65-4206-9de8-8c45de6371d8",
   "metadata": {},
   "outputs": [
    {
     "name": "stdout",
     "output_type": "stream",
     "text": [
      "📦 Creating features...\n",
      "Making prediction...\n",
      "✅ Predicted size: XXXL\n"
     ]
    }
   ],
   "source": [
    "# Get prediction\n",
    "predicted_size = inference.predict(new_person)"
   ]
  },
  {
   "cell_type": "code",
   "execution_count": 9,
   "id": "fd0d4a9f-8240-472f-a382-5c6553609db8",
   "metadata": {},
   "outputs": [],
   "source": [
    "new_person2 = {\n",
    "    \"weight\": 69,   # kg\n",
    "    \"age\": 16,      # years\n",
    "    \"height\": 165   # cm\n",
    "}"
   ]
  },
  {
   "cell_type": "code",
   "execution_count": 10,
   "id": "84d7d34d-6c73-438a-93a9-51925f410b21",
   "metadata": {},
   "outputs": [
    {
     "name": "stdout",
     "output_type": "stream",
     "text": [
      "📦 Creating features...\n",
      "Making prediction...\n",
      "✅ Predicted size: XXXL\n"
     ]
    }
   ],
   "source": [
    "# Get prediction\n",
    "predicted_size = inference.predict(new_person2)"
   ]
  },
  {
   "cell_type": "code",
   "execution_count": 11,
   "id": "1c71ac67-76a5-436a-ae73-19b1bcfd978c",
   "metadata": {},
   "outputs": [],
   "source": [
    "new_person3 = {\n",
    "    \"weight\": 70,   # kg\n",
    "    \"age\": 20,      # years\n",
    "    \"height\": 176   # cm\n",
    "}"
   ]
  },
  {
   "cell_type": "code",
   "execution_count": 12,
   "id": "69c10e5a-d383-421a-8816-b7ccfc7c11a0",
   "metadata": {},
   "outputs": [
    {
     "name": "stdout",
     "output_type": "stream",
     "text": [
      "📦 Creating features...\n",
      "Making prediction...\n",
      "✅ Predicted size: XXXL\n"
     ]
    }
   ],
   "source": [
    "# Get prediction\n",
    "predicted_size = inference.predict(new_person3)"
   ]
  },
  {
   "cell_type": "code",
   "execution_count": 13,
   "id": "7a3f67e6-6ebd-4272-8644-38900a83e6b3",
   "metadata": {},
   "outputs": [],
   "source": [
    "new_person4 = {\n",
    "    \"weight\": 80,   # kg\n",
    "    \"age\": 28,      # years\n",
    "    \"height\": 180   # cm\n",
    "}"
   ]
  },
  {
   "cell_type": "code",
   "execution_count": 14,
   "id": "d3ce702d-4d79-460d-893a-142711172691",
   "metadata": {},
   "outputs": [
    {
     "name": "stdout",
     "output_type": "stream",
     "text": [
      "📦 Creating features...\n",
      "Making prediction...\n",
      "✅ Predicted size: XXXL\n"
     ]
    }
   ],
   "source": [
    "# Get prediction\n",
    "predicted_size = inference.predict(new_person4)"
   ]
  },
  {
   "cell_type": "code",
   "execution_count": null,
   "id": "0ffcff66-9417-4405-b57b-3d2b4e1971ac",
   "metadata": {},
   "outputs": [],
   "source": []
  }
 ],
 "metadata": {
  "kernelspec": {
   "display_name": "Python 3 (ipykernel)",
   "language": "python",
   "name": "python3"
  },
  "language_info": {
   "codemirror_mode": {
    "name": "ipython",
    "version": 3
   },
   "file_extension": ".py",
   "mimetype": "text/x-python",
   "name": "python",
   "nbconvert_exporter": "python",
   "pygments_lexer": "ipython3",
   "version": "3.12.7"
  }
 },
 "nbformat": 4,
 "nbformat_minor": 5
}
