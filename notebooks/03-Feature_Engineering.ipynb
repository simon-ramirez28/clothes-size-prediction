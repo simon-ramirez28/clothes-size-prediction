{
 "cells": [
  {
   "cell_type": "markdown",
   "id": "f472034e-3192-4e68-9b62-113effa95eef",
   "metadata": {},
   "source": [
    "# Clothes Size Predictor 🧥"
   ]
  },
  {
   "cell_type": "markdown",
   "id": "76d7f9ce-cf05-4bcc-8afd-dd1eacb4606a",
   "metadata": {},
   "source": [
    "## Feature Engineering"
   ]
  },
  {
   "cell_type": "code",
   "execution_count": 1,
   "id": "ed75b701-f858-4784-bbde-22ba2ebfb6f4",
   "metadata": {},
   "outputs": [
    {
     "name": "stderr",
     "output_type": "stream",
     "text": [
      "[INFO] ✅ Libraries Uploaded\n"
     ]
    }
   ],
   "source": [
    "# Import necessary libraries\n",
    "import os\n",
    "import sys\n",
    "import pandas as pd\n",
    "import numpy as np\n",
    "import matplotlib.pyplot as plt\n",
    "import seaborn as sns\n",
    "import logging\n",
    "logging.basicConfig(level=logging.INFO, format='[%(levelname)s] %(message)s')\n",
    "logger = logging.getLogger(__name__)\n",
    "\n",
    "# Get the current working directory\n",
    "current_dir = os.getcwd()\n",
    "\n",
    "# Navigate to the project root\n",
    "project_root = os.path.abspath(os.path.join(current_dir, '..'))\n",
    "\n",
    "# Import from /src\n",
    "sys.path.append(os.path.join(project_root))\n",
    "logger.info(f\"✅ Libraries Uploaded\")"
   ]
  },
  {
   "cell_type": "code",
   "execution_count": 2,
   "id": "469586bd-41d6-4442-8bb6-2918dbd22115",
   "metadata": {},
   "outputs": [
    {
     "name": "stderr",
     "output_type": "stream",
     "text": [
      "[INFO] ✅ Libraries Uploaded\n"
     ]
    }
   ],
   "source": [
    "# --- Import from /src/pipelines\n",
    "from src.pipeline.feature_engineering import FeatureEngineer\n",
    "logger.info(f\"✅ Libraries Uploaded\")"
   ]
  },
  {
   "cell_type": "markdown",
   "id": "162e0251-3a3c-4daa-8c54-3ad3cee3e3db",
   "metadata": {},
   "source": [
    "## ☛ Import DataSet Processed"
   ]
  },
  {
   "cell_type": "code",
   "execution_count": 3,
   "id": "152478fd-7bb4-4b89-ab31-e1538cf9181a",
   "metadata": {},
   "outputs": [
    {
     "name": "stderr",
     "output_type": "stream",
     "text": [
      "[INFO] ✅ Data successfully loaded: 26351 rows, 4 columns.\n"
     ]
    }
   ],
   "source": [
    "# Load the cleaned dataset\n",
    "file_path = os.path.abspath(os.path.join(project_root, 'data', 'processed', 'clothes_processed.csv'))\n",
    "\n",
    "# Load the CSV into a DataFrame\n",
    "try:\n",
    "    clothes_df = pd.read_csv(file_path)\n",
    "    logger.info(f\"✅ Data successfully loaded: {clothes_df.shape[0]} rows, {clothes_df.shape[1]} columns.\")\n",
    "except Exception as e:\n",
    "    logger.error(f\"❌ Error loading data: {e}\")"
   ]
  },
  {
   "cell_type": "code",
   "execution_count": 4,
   "id": "d620aff7-5e6e-45cd-8b31-0e6999666cbb",
   "metadata": {},
   "outputs": [
    {
     "data": {
      "text/html": [
       "<div>\n",
       "<style scoped>\n",
       "    .dataframe tbody tr th:only-of-type {\n",
       "        vertical-align: middle;\n",
       "    }\n",
       "\n",
       "    .dataframe tbody tr th {\n",
       "        vertical-align: top;\n",
       "    }\n",
       "\n",
       "    .dataframe thead th {\n",
       "        text-align: right;\n",
       "    }\n",
       "</style>\n",
       "<table border=\"1\" class=\"dataframe\">\n",
       "  <thead>\n",
       "    <tr style=\"text-align: right;\">\n",
       "      <th></th>\n",
       "      <th>weight</th>\n",
       "      <th>age</th>\n",
       "      <th>height</th>\n",
       "      <th>size</th>\n",
       "    </tr>\n",
       "  </thead>\n",
       "  <tbody>\n",
       "    <tr>\n",
       "      <th>0</th>\n",
       "      <td>62</td>\n",
       "      <td>28.0</td>\n",
       "      <td>172.72</td>\n",
       "      <td>XL</td>\n",
       "    </tr>\n",
       "    <tr>\n",
       "      <th>1</th>\n",
       "      <td>59</td>\n",
       "      <td>36.0</td>\n",
       "      <td>167.64</td>\n",
       "      <td>L</td>\n",
       "    </tr>\n",
       "    <tr>\n",
       "      <th>2</th>\n",
       "      <td>61</td>\n",
       "      <td>34.0</td>\n",
       "      <td>165.10</td>\n",
       "      <td>M</td>\n",
       "    </tr>\n",
       "    <tr>\n",
       "      <th>3</th>\n",
       "      <td>65</td>\n",
       "      <td>27.0</td>\n",
       "      <td>175.26</td>\n",
       "      <td>L</td>\n",
       "    </tr>\n",
       "    <tr>\n",
       "      <th>4</th>\n",
       "      <td>62</td>\n",
       "      <td>45.0</td>\n",
       "      <td>172.72</td>\n",
       "      <td>M</td>\n",
       "    </tr>\n",
       "  </tbody>\n",
       "</table>\n",
       "</div>"
      ],
      "text/plain": [
       "   weight   age  height size\n",
       "0      62  28.0  172.72   XL\n",
       "1      59  36.0  167.64    L\n",
       "2      61  34.0  165.10    M\n",
       "3      65  27.0  175.26    L\n",
       "4      62  45.0  172.72    M"
      ]
     },
     "execution_count": 4,
     "metadata": {},
     "output_type": "execute_result"
    }
   ],
   "source": [
    "clothes_df.head()"
   ]
  },
  {
   "cell_type": "markdown",
   "id": "d583e296-a6cc-457e-a07b-5840c84fb8e4",
   "metadata": {},
   "source": [
    "## Initialize the Feature Engineering\n",
    "\n",
    "This pipeline will follow these steps ✎\n",
    "\n",
    "1. Generate new derived variables (e.g. BMI, ratios, interactions).\n",
    "2. Encode _**Size**_ to numeric or One-Hot values as needed.\n",
    "3. Normalize or standardize numeric variables (optional).\n",
    "4. Save the processed dataset with the new columns."
   ]
  },
  {
   "cell_type": "code",
   "execution_count": 5,
   "id": "7f4f0894-08db-4c8b-822d-4e1795d47671",
   "metadata": {},
   "outputs": [],
   "source": [
    "# Initialize\n",
    "fe = FeatureEngineer(clothes_df, target_col=\"Size\")"
   ]
  },
  {
   "cell_type": "code",
   "execution_count": 6,
   "id": "b5a5585a-ff8f-4124-8c61-8f0a8b18dd97",
   "metadata": {},
   "outputs": [
    {
     "name": "stdout",
     "output_type": "stream",
     "text": [
      "🚀 Running full Feature Engineering pipeline...\n",
      "🧮 Feature 'BMI' created.\n",
      "⚙️ Interaction features created: weight_age_ratio, height_age_ratio.\n",
      "⚠️ Target column 'Size' not found.\n",
      "📏 Scaled numeric features: ['weight', 'age', 'height', 'BMI', 'weight_age_ratio', 'height_age_ratio']\n",
      "✅ Feature engineering pipeline completed.\n"
     ]
    }
   ],
   "source": [
    "# Run full pipeline\n",
    "features_df = fe.run_all(scale=True, interactions=True)"
   ]
  },
  {
   "cell_type": "code",
   "execution_count": 7,
   "id": "22a0ff7d-ab3b-4793-94b6-a537723fcd2e",
   "metadata": {},
   "outputs": [
    {
     "name": "stdout",
     "output_type": "stream",
     "text": [
      "✅ Saved feature-engineered dataset to results/features\\clothes_features.csv\n"
     ]
    },
    {
     "data": {
      "text/plain": [
       "'results/features\\\\clothes_features.csv'"
      ]
     },
     "execution_count": 7,
     "metadata": {},
     "output_type": "execute_result"
    }
   ],
   "source": [
    "# Save result\n",
    "fe.save_features(\"clothes_features.csv\")"
   ]
  },
  {
   "cell_type": "code",
   "execution_count": 8,
   "id": "20f48b91-17ea-4822-9b76-6ef8e1333ee3",
   "metadata": {},
   "outputs": [
    {
     "data": {
      "text/html": [
       "<div>\n",
       "<style scoped>\n",
       "    .dataframe tbody tr th:only-of-type {\n",
       "        vertical-align: middle;\n",
       "    }\n",
       "\n",
       "    .dataframe tbody tr th {\n",
       "        vertical-align: top;\n",
       "    }\n",
       "\n",
       "    .dataframe thead th {\n",
       "        text-align: right;\n",
       "    }\n",
       "</style>\n",
       "<table border=\"1\" class=\"dataframe\">\n",
       "  <thead>\n",
       "    <tr style=\"text-align: right;\">\n",
       "      <th></th>\n",
       "      <th>weight</th>\n",
       "      <th>age</th>\n",
       "      <th>height</th>\n",
       "      <th>size</th>\n",
       "      <th>BMI</th>\n",
       "      <th>weight_age_ratio</th>\n",
       "      <th>height_age_ratio</th>\n",
       "    </tr>\n",
       "  </thead>\n",
       "  <tbody>\n",
       "    <tr>\n",
       "      <th>0</th>\n",
       "      <td>-0.084191</td>\n",
       "      <td>-0.784470</td>\n",
       "      <td>0.860731</td>\n",
       "      <td>XL</td>\n",
       "      <td>-0.550174</td>\n",
       "      <td>0.523921</td>\n",
       "      <td>0.794193</td>\n",
       "    </tr>\n",
       "    <tr>\n",
       "      <th>1</th>\n",
       "      <td>-0.355933</td>\n",
       "      <td>-0.013125</td>\n",
       "      <td>0.229692</td>\n",
       "      <td>L</td>\n",
       "      <td>-0.495748</td>\n",
       "      <td>-0.386032</td>\n",
       "      <td>-0.205802</td>\n",
       "    </tr>\n",
       "    <tr>\n",
       "      <th>2</th>\n",
       "      <td>-0.174771</td>\n",
       "      <td>-0.205961</td>\n",
       "      <td>-0.085828</td>\n",
       "      <td>M</td>\n",
       "      <td>-0.138852</td>\n",
       "      <td>-0.137729</td>\n",
       "      <td>-0.075048</td>\n",
       "    </tr>\n",
       "    <tr>\n",
       "      <th>3</th>\n",
       "      <td>0.187552</td>\n",
       "      <td>-0.880888</td>\n",
       "      <td>1.176251</td>\n",
       "      <td>L</td>\n",
       "      <td>-0.452578</td>\n",
       "      <td>0.831234</td>\n",
       "      <td>1.007114</td>\n",
       "    </tr>\n",
       "    <tr>\n",
       "      <th>4</th>\n",
       "      <td>-0.084191</td>\n",
       "      <td>0.854639</td>\n",
       "      <td>0.860731</td>\n",
       "      <td>M</td>\n",
       "      <td>-0.550174</td>\n",
       "      <td>-0.799308</td>\n",
       "      <td>-0.750362</td>\n",
       "    </tr>\n",
       "  </tbody>\n",
       "</table>\n",
       "</div>"
      ],
      "text/plain": [
       "     weight       age    height size       BMI  weight_age_ratio  \\\n",
       "0 -0.084191 -0.784470  0.860731   XL -0.550174          0.523921   \n",
       "1 -0.355933 -0.013125  0.229692    L -0.495748         -0.386032   \n",
       "2 -0.174771 -0.205961 -0.085828    M -0.138852         -0.137729   \n",
       "3  0.187552 -0.880888  1.176251    L -0.452578          0.831234   \n",
       "4 -0.084191  0.854639  0.860731    M -0.550174         -0.799308   \n",
       "\n",
       "   height_age_ratio  \n",
       "0          0.794193  \n",
       "1         -0.205802  \n",
       "2         -0.075048  \n",
       "3          1.007114  \n",
       "4         -0.750362  "
      ]
     },
     "execution_count": 8,
     "metadata": {},
     "output_type": "execute_result"
    }
   ],
   "source": [
    "# Check preview\n",
    "features_df.head()"
   ]
  },
  {
   "cell_type": "markdown",
   "id": "25fdce10-5636-46cf-879c-49e4352f1457",
   "metadata": {},
   "source": [
    "### Just a quick explanation ⚑\n",
    "\n",
    "- Weight = -0.08 → slightly below average weight\n",
    "- Height = 0.86 → above average height\n",
    "- Age = -0.78 → slightly younger than average"
   ]
  },
  {
   "cell_type": "code",
   "execution_count": null,
   "id": "797d89be-b02c-4a43-a9de-ee8ab572ef1f",
   "metadata": {},
   "outputs": [],
   "source": []
  }
 ],
 "metadata": {
  "kernelspec": {
   "display_name": "Python 3 (ipykernel)",
   "language": "python",
   "name": "python3"
  },
  "language_info": {
   "codemirror_mode": {
    "name": "ipython",
    "version": 3
   },
   "file_extension": ".py",
   "mimetype": "text/x-python",
   "name": "python",
   "nbconvert_exporter": "python",
   "pygments_lexer": "ipython3",
   "version": "3.12.7"
  }
 },
 "nbformat": 4,
 "nbformat_minor": 5
}
