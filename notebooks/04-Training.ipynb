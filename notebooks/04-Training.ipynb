{
 "cells": [
  {
   "cell_type": "markdown",
   "id": "dd3de900-c513-4fbe-aafb-d12106834ef9",
   "metadata": {},
   "source": [
    "# Clothes Size Prediction"
   ]
  },
  {
   "cell_type": "markdown",
   "id": "0610f908-8788-4b01-98a7-129396a34178",
   "metadata": {},
   "source": [
    "## - Training Model"
   ]
  },
  {
   "cell_type": "code",
   "execution_count": 1,
   "id": "4784568e-f9ca-4060-a971-dd701e479a7d",
   "metadata": {},
   "outputs": [
    {
     "name": "stderr",
     "output_type": "stream",
     "text": [
      "[INFO] ✅ Libraries Uploaded\n"
     ]
    }
   ],
   "source": [
    "# Import necessary libraries\n",
    "import os\n",
    "import sys\n",
    "import pandas as pd\n",
    "import numpy as np\n",
    "import matplotlib.pyplot as plt\n",
    "import seaborn as sns\n",
    "import logging\n",
    "logging.basicConfig(level=logging.INFO, format='[%(levelname)s] %(message)s')\n",
    "logger = logging.getLogger(__name__)\n",
    "\n",
    "# Get the current working directory\n",
    "current_dir = os.getcwd()\n",
    "\n",
    "# Navigate to the project root\n",
    "project_root = os.path.abspath(os.path.join(current_dir, '..'))\n",
    "\n",
    "# Import from /src\n",
    "sys.path.append(os.path.join(project_root))\n",
    "logger.info(f\"✅ Libraries Uploaded\")"
   ]
  },
  {
   "cell_type": "code",
   "execution_count": 2,
   "id": "2b29daa4-8d36-4f4c-ac47-25be67bdd3d6",
   "metadata": {},
   "outputs": [
    {
     "name": "stderr",
     "output_type": "stream",
     "text": [
      "[INFO] ✅ Libraries Uploaded\n"
     ]
    }
   ],
   "source": [
    "# --- Import from /src/pipelines\n",
    "from src.pipeline.training_pipeline import ModelTrainer\n",
    "logger.info(f\"✅ Libraries Uploaded\")"
   ]
  },
  {
   "cell_type": "markdown",
   "id": "de3d90b7-28fb-46f7-9676-17e45e5d619f",
   "metadata": {},
   "source": [
    "## ☛ Import Features Dataset"
   ]
  },
  {
   "cell_type": "code",
   "execution_count": 3,
   "id": "98728986-0354-42f3-b5a9-476ac4154384",
   "metadata": {},
   "outputs": [
    {
     "name": "stderr",
     "output_type": "stream",
     "text": [
      "[INFO] ✅ Data successfully loaded: 26351 rows, 7 columns.\n"
     ]
    }
   ],
   "source": [
    "# Load the cleaned dataset\n",
    "file_path = os.path.abspath(os.path.join(project_root, 'data', 'features', 'clothes_features.csv'))\n",
    "\n",
    "# Load the CSV into a DataFrame\n",
    "try:\n",
    "    clothes_ft = pd.read_csv(file_path)\n",
    "    logger.info(f\"✅ Data successfully loaded: {clothes_ft.shape[0]} rows, {clothes_ft.shape[1]} columns.\")\n",
    "except Exception as e:\n",
    "    logger.error(f\"❌ Error loading data: {e}\")"
   ]
  },
  {
   "cell_type": "markdown",
   "id": "f212b274-14d7-401b-b587-4b90104988c8",
   "metadata": {},
   "source": [
    "## Initialize the Training"
   ]
  },
  {
   "cell_type": "code",
   "execution_count": 4,
   "id": "cf6739cb-2162-4eb0-9d64-240cabbbdd24",
   "metadata": {},
   "outputs": [],
   "source": [
    "# Initialize pipeline\n",
    "trainer = ModelTrainer(data_path=file_path, target_col=\"size\")"
   ]
  },
  {
   "cell_type": "code",
   "execution_count": 5,
   "id": "42dbb378-0521-42a4-82c9-b33038b006bb",
   "metadata": {},
   "outputs": [
    {
     "name": "stdout",
     "output_type": "stream",
     "text": [
      "📥 Loading data...\n",
      "✅ Data loaded: 26351 rows, 7 columns.\n",
      "🔧 Preparing data for training...\n",
      "✅ Split complete: 21080 train / 5271 test\n",
      "🚀 Training models...\n",
      "\n",
      "Logistic Regression: Accuracy = 0.4252\n",
      "Random Forest: Accuracy = 0.1935\n",
      "Gradient Boosting: Accuracy = 0.3980\n",
      "KNN: Accuracy = 0.2525\n",
      "SVM: Accuracy = 0.4202\n",
      "\n",
      "🏆 Best model: LogisticRegression\n",
      "✅ Accuracy: 0.4252\n",
      "💾 Best model saved as best_model.pkl\n",
      "\n",
      "📊 Classification Report:\n",
      "              precision    recall  f1-score   support\n",
      "\n",
      "           0       0.33      0.07      0.11       828\n",
      "           1       0.29      0.42      0.34       972\n",
      "           2       0.33      0.39      0.36       786\n",
      "           3       0.32      0.34      0.33       915\n",
      "           4       0.00      0.00      0.00        10\n",
      "           5       0.49      0.36      0.41       506\n",
      "           6       0.67      0.78      0.72      1254\n",
      "\n",
      "    accuracy                           0.43      5271\n",
      "   macro avg       0.35      0.34      0.33      5271\n",
      "weighted avg       0.42      0.43      0.40      5271\n",
      "\n"
     ]
    },
    {
     "name": "stderr",
     "output_type": "stream",
     "text": [
      "F:\\OtherSoftware\\Anaconda\\Lib\\site-packages\\sklearn\\metrics\\_classification.py:1531: UndefinedMetricWarning: Precision is ill-defined and being set to 0.0 in labels with no predicted samples. Use `zero_division` parameter to control this behavior.\n",
      "  _warn_prf(average, modifier, f\"{metric.capitalize()} is\", len(result))\n",
      "F:\\OtherSoftware\\Anaconda\\Lib\\site-packages\\sklearn\\metrics\\_classification.py:1531: UndefinedMetricWarning: Precision is ill-defined and being set to 0.0 in labels with no predicted samples. Use `zero_division` parameter to control this behavior.\n",
      "  _warn_prf(average, modifier, f\"{metric.capitalize()} is\", len(result))\n",
      "F:\\OtherSoftware\\Anaconda\\Lib\\site-packages\\sklearn\\metrics\\_classification.py:1531: UndefinedMetricWarning: Precision is ill-defined and being set to 0.0 in labels with no predicted samples. Use `zero_division` parameter to control this behavior.\n",
      "  _warn_prf(average, modifier, f\"{metric.capitalize()} is\", len(result))\n"
     ]
    }
   ],
   "source": [
    "# Run full training pipeline\n",
    "trainer.full_training_pipeline()"
   ]
  },
  {
   "cell_type": "code",
   "execution_count": null,
   "id": "182be280-7bd9-4dc1-8192-16cb36975bb4",
   "metadata": {},
   "outputs": [],
   "source": []
  }
 ],
 "metadata": {
  "kernelspec": {
   "display_name": "Python 3 (ipykernel)",
   "language": "python",
   "name": "python3"
  },
  "language_info": {
   "codemirror_mode": {
    "name": "ipython",
    "version": 3
   },
   "file_extension": ".py",
   "mimetype": "text/x-python",
   "name": "python",
   "nbconvert_exporter": "python",
   "pygments_lexer": "ipython3",
   "version": "3.12.7"
  }
 },
 "nbformat": 4,
 "nbformat_minor": 5
}
