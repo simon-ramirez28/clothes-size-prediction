{
 "cells": [
  {
   "cell_type": "markdown",
   "id": "a716709d-19d9-4b48-a8a5-c5918a08fba0",
   "metadata": {},
   "source": [
    "# Clothes Size Predictor 🧥"
   ]
  },
  {
   "cell_type": "markdown",
   "id": "fa8e946f-11ce-4244-91a1-11d5c46cb93e",
   "metadata": {},
   "source": [
    "### ➤ Import Libraries and Stuff"
   ]
  },
  {
   "cell_type": "code",
   "execution_count": 1,
   "id": "5cfafcb4-f953-4d5d-9023-732c8e49c79f",
   "metadata": {},
   "outputs": [
    {
     "name": "stderr",
     "output_type": "stream",
     "text": [
      "[INFO] ✅ Libraries uploaded\n"
     ]
    }
   ],
   "source": [
    "import os\n",
    "import sys\n",
    "import pandas as pd\n",
    "import numpy as np\n",
    "import matplotlib.pyplot as plt\n",
    "import seaborn as sns\n",
    "import logging\n",
    "logging.basicConfig(level=logging.INFO, format='[%(levelname)s] %(message)s')\n",
    "logger = logging.getLogger(__name__)\n",
    "\n",
    "# Get the current working directory\n",
    "current_dir = os.getcwd()\n",
    "\n",
    "# Navigate to the project root\n",
    "project_root = os.path.abspath(os.path.join(current_dir, '..'))\n",
    "logger.info(f\"✅ Libraries uploaded\")"
   ]
  },
  {
   "cell_type": "markdown",
   "id": "68ac3fff-52ee-4e83-938d-1e1efe702642",
   "metadata": {},
   "source": [
    "⎙ Import the helpers from /src"
   ]
  },
  {
   "cell_type": "code",
   "execution_count": 2,
   "id": "444b145e-9cad-40e7-9cfc-05b58dde18e6",
   "metadata": {},
   "outputs": [
    {
     "name": "stderr",
     "output_type": "stream",
     "text": [
      "[INFO] ✅ Libraries uploaded\n"
     ]
    }
   ],
   "source": [
    "try:\n",
    "    sys.path.append(os.path.join(project_root))\n",
    "    from src.pipeline.data import DataProcessor\n",
    "    from src.pipeline.cleaning import DataCleaner\n",
    "    logger.info(f\"✅ Libraries uploaded\")\n",
    "except Exception as e:\n",
    "    logger.info(f\"❌ Error loading libraries: {e}\")"
   ]
  },
  {
   "cell_type": "markdown",
   "id": "bccc6cef-245b-4825-9995-661d74c3d41b",
   "metadata": {},
   "source": [
    "⏏ Import the Dataset"
   ]
  },
  {
   "cell_type": "code",
   "execution_count": 3,
   "id": "eadf34fb-eeb4-4566-bd65-54b345d79f5f",
   "metadata": {},
   "outputs": [
    {
     "name": "stdout",
     "output_type": "stream",
     "text": [
      "✅ Data uploaded correctly. 119734 rows and 4 columns.\n",
      "\n",
      "📊 General information about the dataset:\n",
      "\n",
      "<class 'pandas.core.frame.DataFrame'>\n",
      "RangeIndex: 119734 entries, 0 to 119733\n",
      "Data columns (total 4 columns):\n",
      " #   Column  Non-Null Count   Dtype  \n",
      "---  ------  --------------   -----  \n",
      " 0   weight  119734 non-null  int64  \n",
      " 1   age     119477 non-null  float64\n",
      " 2   height  119404 non-null  float64\n",
      " 3   size    119734 non-null  object \n",
      "dtypes: float64(2), int64(1), object(1)\n",
      "memory usage: 3.7+ MB\n",
      "None\n",
      "\n",
      "📈 Descriptive statistics:\n",
      "\n",
      "               weight            age         height    size\n",
      "count   119734.000000  119477.000000  119404.000000  119734\n",
      "unique            NaN            NaN            NaN       7\n",
      "top               NaN            NaN            NaN       M\n",
      "freq              NaN            NaN            NaN   29712\n",
      "mean        61.756811      34.027311     165.805794     NaN\n",
      "std          9.944863       8.149447       6.737651     NaN\n",
      "min         22.000000       0.000000     137.160000     NaN\n",
      "25%         55.000000      29.000000     160.020000     NaN\n",
      "50%         61.000000      32.000000     165.100000     NaN\n",
      "75%         67.000000      37.000000     170.180000     NaN\n",
      "max        136.000000     117.000000     193.040000     NaN\n",
      "\n",
      "🔍 Checking for missing values...\n",
      "\n",
      "⚠️ Columns with missing values detected:\n",
      "\n",
      "age       257\n",
      "height    330\n",
      "dtype: int64\n",
      "\n",
      "🕒 Checking for date columns...\n",
      "\n",
      "✅ No date columns detected.\n",
      "\n",
      "🚀 Data processing pipeline completed.\n",
      "\n"
     ]
    }
   ],
   "source": [
    "# Load the cleaned dataset\n",
    "file_path = os.path.abspath(os.path.join(project_root, 'data', 'raw', 'clothing_info.csv'))\n",
    "processor = DataProcessor(file_path)\n",
    "df = processor.run_pipeline()"
   ]
  },
  {
   "cell_type": "markdown",
   "id": "a877afe9-fc71-40cb-a48d-b6d2f29d042c",
   "metadata": {},
   "source": [
    "## ➤ Data Cleaning"
   ]
  },
  {
   "cell_type": "code",
   "execution_count": 4,
   "id": "304d7403-3221-42b3-a4a3-2e9b6152aa62",
   "metadata": {},
   "outputs": [],
   "source": [
    "# --- Checking the nulls and deleting it\n",
    "clothes_deploy = df.copy() # --- We save a copy here"
   ]
  },
  {
   "cell_type": "code",
   "execution_count": 5,
   "id": "a4b933ff-19b0-4bb8-b1ba-d7e7d8d4a315",
   "metadata": {},
   "outputs": [
    {
     "data": {
      "text/plain": [
       "(119734, 4)"
      ]
     },
     "execution_count": 5,
     "metadata": {},
     "output_type": "execute_result"
    }
   ],
   "source": [
    "clothes_deploy.shape"
   ]
  },
  {
   "cell_type": "code",
   "execution_count": 6,
   "id": "56449f0e-e50f-4247-9127-8fbc4997fb3b",
   "metadata": {},
   "outputs": [
    {
     "name": "stdout",
     "output_type": "stream",
     "text": [
      "\n",
      "🚀 Starting Data Cleaning Pipeline...\n",
      "\n",
      "\n",
      "🧹 Handling missing values...\n",
      "⚠️ Columns with missing values detected:\n",
      " age       257\n",
      "height    330\n",
      "dtype: int64\n",
      "➡️ Before dropna: (119734, 4)\n",
      "✅ After dropna:  (119153, 4)\n",
      "\n",
      "📑 Checking for duplicates...\n",
      "⚠️ 92182 duplicate rows detected. Removing them...\n",
      "✅ Remaining rows after drop: 26971\n",
      "\n",
      "🔍 Checking data types consistency...\n",
      "✅ Data type check complete.\n",
      "\n",
      "📈 Checking for outliers (Z-score method)...\n",
      "⚠️ Possible outliers detected:\n",
      " {'weight': 456, 'age': 131, 'height': 35}\n",
      "\n",
      "✨ Data cleaning completed. Ready for feature engineering.\n"
     ]
    }
   ],
   "source": [
    "cleaner = DataCleaner(clothes_deploy)\n",
    "clothes_deploy = cleaner.run_pipeline()"
   ]
  },
  {
   "cell_type": "markdown",
   "id": "da500df2-b470-426a-a023-54b01d9ebb59",
   "metadata": {},
   "source": [
    "### --- Checking outliers"
   ]
  },
  {
   "cell_type": "code",
   "execution_count": 7,
   "id": "7ff6e141-11dd-4e77-9028-dd80de9c1068",
   "metadata": {},
   "outputs": [
    {
     "name": "stdout",
     "output_type": "stream",
     "text": [
      "\n",
      "📈 Checking for outliers (Z-score method)...\n",
      "⚠️ Possible outliers detected:\n",
      " {'weight': 456, 'age': 131, 'height': 35}\n"
     ]
    }
   ],
   "source": [
    "cleaner.handle_outliers()"
   ]
  },
  {
   "cell_type": "code",
   "execution_count": 8,
   "id": "db4ceb85-486c-43ea-bed1-1e0aa8df53f6",
   "metadata": {},
   "outputs": [
    {
     "name": "stdout",
     "output_type": "stream",
     "text": [
      "\n",
      "📈 Checking for outliers (Z-score method)...\n",
      "⚠️ Possible outliers detected:\n",
      " {'weight': 456, 'age': 130, 'height': 34}\n",
      "🧹 Outlier rows removed.\n"
     ]
    }
   ],
   "source": [
    "# --- We remove it\n",
    "cleaner.handle_outliers(action=\"remove\")"
   ]
  },
  {
   "cell_type": "code",
   "execution_count": 9,
   "id": "3d0a6d2a-bf5b-477f-bbe8-bdd5fc03009b",
   "metadata": {},
   "outputs": [
    {
     "name": "stdout",
     "output_type": "stream",
     "text": [
      "\n",
      "📈 Checking for outliers (Z-score method)...\n",
      "⚠️ Possible outliers detected:\n",
      " {'weight': 265, 'age': 38}\n"
     ]
    }
   ],
   "source": [
    "cleaner.handle_outliers()"
   ]
  },
  {
   "cell_type": "code",
   "execution_count": 10,
   "id": "533d6760-a806-470e-95ec-cb830d221166",
   "metadata": {},
   "outputs": [
    {
     "data": {
      "text/plain": [
       "(26971, 4)"
      ]
     },
     "execution_count": 10,
     "metadata": {},
     "output_type": "execute_result"
    }
   ],
   "source": [
    "clothes_deploy.shape"
   ]
  },
  {
   "cell_type": "code",
   "execution_count": 11,
   "id": "2117b146-77d1-4b8c-a144-5ec440417126",
   "metadata": {},
   "outputs": [
    {
     "name": "stdout",
     "output_type": "stream",
     "text": [
      "\n",
      "🚀 Starting Data Cleaning Pipeline...\n",
      "\n",
      "\n",
      "🧹 Handling missing values...\n",
      "✅ No missing values found.\n",
      "\n",
      "📑 Checking for duplicates...\n",
      "✅ No duplicate rows found.\n",
      "\n",
      "🔍 Checking data types consistency...\n",
      "✅ Data type check complete.\n",
      "\n",
      "📈 Checking for outliers (Z-score method)...\n",
      "⚠️ Possible outliers detected:\n",
      " {'weight': 265, 'age': 38}\n",
      "\n",
      "✨ Data cleaning completed. Ready for feature engineering.\n"
     ]
    }
   ],
   "source": [
    "clothes_deploy = cleaner.run_pipeline()"
   ]
  },
  {
   "cell_type": "markdown",
   "id": "9eeb8c8c-e749-40bc-b3b1-6f367c836acf",
   "metadata": {},
   "source": [
    "## --- Export the new CSV"
   ]
  },
  {
   "cell_type": "code",
   "execution_count": 12,
   "id": "674173e5-e1d6-4022-94ff-28a6ac48e63c",
   "metadata": {},
   "outputs": [
    {
     "name": "stderr",
     "output_type": "stream",
     "text": [
      "[INFO] ✅ File saved as 'clothes_processed.csv'.\n"
     ]
    }
   ],
   "source": [
    "clothes_deploy.to_csv(f'{project_root}/data/processed/clothes_processed.csv', index=False)\n",
    "logger.info(\"✅ File saved as 'clothes_processed.csv'.\")"
   ]
  },
  {
   "cell_type": "code",
   "execution_count": null,
   "id": "f5aa939e-dad9-4358-b1af-da3f1e47e45e",
   "metadata": {},
   "outputs": [],
   "source": []
  }
 ],
 "metadata": {
  "kernelspec": {
   "display_name": "Python 3 (ipykernel)",
   "language": "python",
   "name": "python3"
  },
  "language_info": {
   "codemirror_mode": {
    "name": "ipython",
    "version": 3
   },
   "file_extension": ".py",
   "mimetype": "text/x-python",
   "name": "python",
   "nbconvert_exporter": "python",
   "pygments_lexer": "ipython3",
   "version": "3.12.7"
  }
 },
 "nbformat": 4,
 "nbformat_minor": 5
}
